{
 "cells": [
  {
   "cell_type": "markdown",
   "metadata": {},
   "source": [
    "<h1 align=\"center\">\n",
    "ISM 6413 Homework Assignment 1\n",
    "</h1>"
   ]
  },
  {
   "cell_type": "markdown",
   "metadata": {},
   "source": [
    "### Problem Description\n",
    "\n",
    "SOP (Search Optimization Pro) sells online digital advertising to local business via its sales associates. When a sales associate approaches a local business, they try to convince the local business to let SOP use its experience to manage the business' online advertisements on Google, Facebook, etc. If the sales associate is successful, the business signs a contract with SOP, and they agree on the terms. The contract includes following details: \n",
    "\n",
    "- Monthly advertising budget (B): This is the maximum amount SOP will spend on behalf of the business each month.\n",
    "- Digital Advertising Setup Fee, Annual (S): \\$3000-5000; , negotiable and varies according to each contract's terms and the business' complexity.\n",
    "- Monthly Management Fee (F): $\\$2500 + 15$\\% of Monthly Ad Spend, where \\$2500 is the fixed fee and 15\\% is the variable fee rate. The equation can be written as:\n",
    "\n",
    "\\begin{equation}\n",
    "F = 2500 + 0.15\\times B\n",
    "\\end{equation}\n",
    "\n",
    "Based on the terms of the contract we can then estimate the total annual revenue (TAR) earned from a new business as:  \n",
    "\n",
    "\\begin{equation}\n",
    "TAR = S + 12 \\times F\n",
    "\\end{equation}\n",
    "\n",
    "Once a contract is signed and underway, SOP pays annual commission (C) to its sales associate who delivered the contract. The commission rate is set as flat 5\\% of the total annual revenue of the contract. $C = TAR \\times 0.05$\n",
    "\n",
    "You are asked to write a program that SOP can use to calculate F, TAR and C given B and S for each contracted sale. "
   ]
  },
  {
   "cell_type": "markdown",
   "metadata": {},
   "source": [
    "# --------------------------------------------------"
   ]
  },
  {
   "cell_type": "markdown",
   "metadata": {},
   "source": [
    "#### In the following cell, the code is asking to enter your name and surname. You don't need to write any lines within the cell. Just enter your name and surname (after running the cell).\n",
    "\n",
    "### (5 Points)"
   ]
  },
  {
   "cell_type": "code",
   "execution_count": 59,
   "metadata": {},
   "outputs": [
    {
     "name": "stdin",
     "output_type": "stream",
     "text": [
      "Enter your name and surname here:  Suraj Gurung\n"
     ]
    }
   ],
   "source": [
    "name = input(\"Enter your name and surname here: \")"
   ]
  },
  {
   "cell_type": "markdown",
   "metadata": {},
   "source": [
    "#### Generate 3 constants for the Fixed Fee, Variable Fee Rate, and Comission Rate. Name them fixed_fee, variable_fee_rate, and comission_rate consecutively.\n",
    "\n",
    "### (10 Points)"
   ]
  },
  {
   "cell_type": "code",
   "execution_count": 60,
   "metadata": {},
   "outputs": [],
   "source": [
    "months_in_year = 12 # No need to change anything here\n",
    "\n",
    "# Write your code here (~3 lines)\n",
    "fixed_fee = 2500\n",
    "variable_fee_rate = 0.15\n",
    "comission_rate = 0.05"
   ]
  },
  {
   "cell_type": "markdown",
   "metadata": {},
   "source": [
    "#### Request an input from the user for the name of the sales associate by writing \"Enter the name of the sales associate: \"\n",
    "\n",
    "#### Save this name into a variable called A. \n",
    "\n",
    "#### Once you write the code and the input is requested you can enter the name of the Sales Associate as Brian Griffin.\n",
    "\n",
    "### (10 Points) "
   ]
  },
  {
   "cell_type": "code",
   "execution_count": 61,
   "metadata": {},
   "outputs": [
    {
     "name": "stdout",
     "output_type": "stream",
     "text": [
      "Sales and Sales Associate Commissin Tracker by Suraj Gurung\n"
     ]
    },
    {
     "name": "stdin",
     "output_type": "stream",
     "text": [
      "Enter the name of the sales associate:  Brian Griffin\n"
     ]
    }
   ],
   "source": [
    "print(\"Sales and Sales Associate Commissin Tracker by\", name) # no need to change anything here\n",
    "# Write your code here (~ 1 line)\n",
    "# Request input for the name of the sales associate\n",
    "A = input(\"Enter the name of the sales associate: \")"
   ]
  },
  {
   "cell_type": "markdown",
   "metadata": {},
   "source": [
    "#### Request an input from the user by writing \"What is the name of the business for this contract? \"\n",
    "\n",
    "#### Save this name into a variable called N. \n",
    "\n",
    "#### Once you write the code and the input is requested enter the name of the business as Family Dog Training LLC. \n",
    "\n",
    "### (5 Points)"
   ]
  },
  {
   "cell_type": "code",
   "execution_count": 62,
   "metadata": {},
   "outputs": [
    {
     "name": "stdin",
     "output_type": "stream",
     "text": [
      "What is the name of the business for the contract:  Family Dog Training LLC\n"
     ]
    }
   ],
   "source": [
    "# Write your code here (~ 1 line)\n",
    "\n",
    "#Request input for the name of the business\n",
    "N = input(\"What is the name of the business for the contract: \")\n"
   ]
  },
  {
   "cell_type": "markdown",
   "metadata": {},
   "source": [
    "#### Request the Monthly Advertising Budget by writing \"What is the monthly advertising budget (B)? \"\n",
    "\n",
    "#### Save this information into a variable called B.\n",
    "\n",
    "#### Once you write the code and the input is requested enter 2300 as the advertising budget.\n",
    "\n",
    "### (10 Points)"
   ]
  },
  {
   "cell_type": "code",
   "execution_count": 63,
   "metadata": {},
   "outputs": [
    {
     "name": "stdin",
     "output_type": "stream",
     "text": [
      "What is the monthly advertising budget:  2300\n"
     ]
    }
   ],
   "source": [
    "# Write your code here (~1 line)\n",
    "# Hint: Don't forget to convert the number into a float or integer.\n",
    "\n",
    "# Request input for Monthly Advertising Budget\n",
    "B = input(\"What is the monthly advertising budget: \")\n",
    "\n",
    "# Convert it into float\n",
    "B = float(B)"
   ]
  },
  {
   "cell_type": "markdown",
   "metadata": {},
   "source": [
    "#### Request the Digital Advertising Setup Fee by writing \"What is the agreed Digital Advertising Setup Fee (S)? \"\n",
    "\n",
    "#### Save this information into a variable called S.\n",
    "\n",
    "#### Once you write the code and the input is requested enter 3450 as the set up fee.\n",
    "\n",
    "### (10 Points)"
   ]
  },
  {
   "cell_type": "code",
   "execution_count": 64,
   "metadata": {},
   "outputs": [
    {
     "name": "stdin",
     "output_type": "stream",
     "text": [
      "What is the agree Digital Advertising Setup Fee:  3450\n"
     ]
    }
   ],
   "source": [
    "# Write your code here (~1 line)\n",
    "# Hint: Don't forget to convert the number into a float or integer.\n",
    "\n",
    "# Request input for Digital Advertising Setup Fee\n",
    "S = input(\"What is the agree Digital Advertising Setup Fee: \")\n",
    "\n",
    "# Convert it into float\n",
    "S = float(S)"
   ]
  },
  {
   "cell_type": "markdown",
   "metadata": {},
   "source": [
    "#### Calculate TAR and C using the equations given above. Use the constants/variables we created (S, f (generated below), months_in_year, and comission_rate) during these calculations. \n",
    "\n",
    "### (20 Points)"
   ]
  },
  {
   "cell_type": "code",
   "execution_count": 67,
   "metadata": {},
   "outputs": [
    {
     "name": "stdout",
     "output_type": "stream",
     "text": [
      "f = 2845.0 Management Fee\n",
      "TAR = 37590.0 Total Annual Revenue\n",
      "C = 1879.5 Comission\n"
     ]
    }
   ],
   "source": [
    "# No need to change anything in the following line. If you are receiving an error from it, it is probably \n",
    "# because you used a different name for generating the corresponding variables,\n",
    "# or because you did not convert the user input into a float or integer,\n",
    "# or because you did not run some of the cells above.\n",
    "f = fixed_fee + variable_fee_rate * B\n",
    "print ('f = {} Management Fee'.format(f))\n",
    "\n",
    "# Write your code here (~2 lines)\n",
    "TAR = S + months_in_year * f\n",
    "print('TAR = {} Total Annual Revenue'.format(TAR))\n",
    "\n",
    "C = TAR * comission_rate\n",
    "print('C = {} Comission'.format(C))"
   ]
  },
  {
   "cell_type": "markdown",
   "metadata": {},
   "source": [
    "#### Complete the following code using the constants and variables you created above such that it prints the following:\n",
    "\n",
    "Given $B = \\$2300.00$, $S = \\$3450.00$ for Family Dog Training LLC. \n",
    "\n",
    "Your monthly management fee will be $\\$2845.00$ for a total revenue of $\\$37590.00$.\n",
    "\n",
    "Associate Brian Griffin will earn $\\$1879.50$.\n",
    "\n",
    "### (30 Points)"
   ]
  },
  {
   "cell_type": "code",
   "execution_count": 68,
   "metadata": {},
   "outputs": [
    {
     "name": "stdout",
     "output_type": "stream",
     "text": [
      "Given B = $2300.00, S = $3450.00 for Family Dog Training LLC.\n",
      "\n",
      "Your monthly management fee will be $2845.00 for a total revenue of $37590.00.\n",
      "\n",
      "Associate Brian Griffin will earn $1879.50.\n"
     ]
    }
   ],
   "source": [
    "# Enter the required information within the paranthesis of format()\n",
    "# Hint: You need to provide 7 entries.\n",
    "print(\"\"\"Given B = ${:.2f}, S = ${:.2f} for {}.\\n\n",
    "Your monthly management fee will be ${:.2f} for a total revenue of ${:.2f}.\\n\n",
    "Associate {} will earn ${:.2f}.\"\"\".format(B, S, N, f, TAR, A, C ))\n"
   ]
  },
  {
   "cell_type": "code",
   "execution_count": null,
   "metadata": {},
   "outputs": [],
   "source": []
  }
 ],
 "metadata": {
  "kernelspec": {
   "display_name": "Python 3 (ipykernel)",
   "language": "python",
   "name": "python3"
  },
  "language_info": {
   "codemirror_mode": {
    "name": "ipython",
    "version": 3
   },
   "file_extension": ".py",
   "mimetype": "text/x-python",
   "name": "python",
   "nbconvert_exporter": "python",
   "pygments_lexer": "ipython3",
   "version": "3.11.7"
  }
 },
 "nbformat": 4,
 "nbformat_minor": 4
}
