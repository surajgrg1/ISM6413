{
 "cells": [
  {
   "cell_type": "markdown",
   "metadata": {},
   "source": [
    "<h1 align=\"center\">\n",
    "ISM 6413 Homework Assignment 2\n",
    "</h1>"
   ]
  },
  {
   "cell_type": "markdown",
   "metadata": {},
   "source": [
    "### Problem Description\n",
    "\n",
    "SOP (Search Optimization Pro) sells online digital advertising to local business via its sales associates. When a sales associate approaches a local business, they try to convince the local business to let SOP use its experience to manage the business' online advertisements on Google, Facebook, etc. If the sales associate is successful, the business signs a contract with SOP, and they agree on the terms. The contract includes following details: \n",
    "\n",
    "- Monthly advertising budget (B): This is the maximum amount SOP will spend on behalf of the business each month.\n",
    "- Digital Advertising Setup Fee, Annual (S): \\$3000-5000; , negotiable and varies according to each contract's terms and the business' complexity.\n",
    "- Monthly Management Fee (F): $\\$2500 + 15$\\% of Monthly Ad Spend, where \\$2500 is the fixed fee and 15\\% is the variable fee rate. The equation can be written as:\n",
    "\n",
    "\\begin{equation}\n",
    "F = 2500 + 0.15\\times B\n",
    "\\end{equation}\n",
    "\n",
    "Based on the terms of the contract we can then estimate the total annual revenue (TAR) earned from a new business as:  \n",
    "\n",
    "\\begin{equation}\n",
    "TAR = S + 12 \\times F\n",
    "\\end{equation}\n",
    "\n",
    "Once a contract is signed and underway, SOP pays annual commission (C) to its sales associate who delivered the contract. The commission rate is set as flat 5\\% of the total annual revenue of the contract. $C = TAR \\times 0.05$\n",
    "\n",
    "You are asked to write a program that SOP can use to calculate F, TAR and C given B and S for each contracted sale. \n",
    "\n",
    "This program should be able to get multiple contract information until the user \"quits\"."
   ]
  },
  {
   "cell_type": "markdown",
   "metadata": {},
   "source": [
    "# --------------------------------------------------"
   ]
  },
  {
   "cell_type": "markdown",
   "metadata": {},
   "source": [
    "#### In the following cell, the code is asking to enter your name and surname. You don't need to write any lines within the cell. Just enter your name and surname (after running the cell).\n",
    "\n",
    "### (5 Points)"
   ]
  },
  {
   "cell_type": "code",
   "execution_count": 1,
   "metadata": {},
   "outputs": [
    {
     "name": "stdin",
     "output_type": "stream",
     "text": [
      "Enter your name and surname here:  Suraj Gurung\n"
     ]
    }
   ],
   "source": [
    "name = input(\"Enter your name and surname here: \")"
   ]
  },
  {
   "cell_type": "markdown",
   "metadata": {},
   "source": [
    "#### No need to change anything in the following cell, just run the cell."
   ]
  },
  {
   "cell_type": "code",
   "execution_count": 2,
   "metadata": {},
   "outputs": [],
   "source": [
    "intro = \"Sales and Sales Associate Commission Tracker by \" + name "
   ]
  },
  {
   "cell_type": "markdown",
   "metadata": {},
   "source": [
    "#### Generate 3 constants for the Fixed Fee, Variable Fee Rate, and Comission Rate. Name them fixed_fee, variable_fee_rate, and comission_rate consecutively.\n",
    "\n",
    "### (5 Points)"
   ]
  },
  {
   "cell_type": "code",
   "execution_count": 3,
   "metadata": {},
   "outputs": [],
   "source": [
    "months_in_year = 12 # No need to change anything here\n",
    "# Write your code here (~3 lines)\n",
    "fixed_fee = 2500\n",
    "variable_fee_rate = 0.15\n",
    "comission_rate = 0.05"
   ]
  },
  {
   "cell_type": "markdown",
   "metadata": {},
   "source": [
    "### Generate three variables called total_f, total_tar, total_c that are equal to 0. These will keep track of the total Monthly Magement Fee, total Annual Revenue, and total Annual Commission -consecutively- after entering information about every contract.\n",
    "\n",
    "### (5 Points)"
   ]
  },
  {
   "cell_type": "code",
   "execution_count": 4,
   "metadata": {},
   "outputs": [],
   "source": [
    "# Write your code here (~3 lines)\n",
    "total_f = 0 #total fixed fee\n",
    "total_tar = 0 #total annual revenue\n",
    "total_c = 0 #total  commission"
   ]
  },
  {
   "cell_type": "markdown",
   "metadata": {},
   "source": [
    "#### No need to change anything in the following cell, just run the cell."
   ]
  },
  {
   "cell_type": "code",
   "execution_count": 6,
   "metadata": {},
   "outputs": [],
   "source": [
    "question = \"Enter the name of the sales associate or q to quit:\""
   ]
  },
  {
   "cell_type": "markdown",
   "metadata": {},
   "source": [
    "#### Complete the code in the following cell. The code should keep running until the user enters q or Q.\n",
    "\n",
    "### (60 Points)"
   ]
  },
  {
   "cell_type": "code",
   "execution_count": null,
   "metadata": {},
   "outputs": [],
   "source": [
    "print(intro)\n",
    "print(question)\n",
    "a = input()\n",
    "\n",
    "while a.lower() : ### Complete this condition such that the loop continues unless the user enters q or Q. (15 points).\n",
    "    n = input(\"What is the name of the business for this contract?\\n\") # No need to change anything here\n",
    "    b = float(input(\"What is the monthly advertising budget?\\n\")) # No need to change anything here\n",
    "    s = float(input(\"What is the agreed Digital Advertising Setup Fee?\\n\")) # No need to change anything here\n",
    "\n",
    "    # Using the user inputs and the constants you generated above, calculate monthly management fee, annual revenue, and annual comission PER CONTRACT.\n",
    "    # name them as f, TAR, and c. (15 points; 5 points each)\n",
    "    # (~ 3 lines)\n",
    "\n",
    "\n",
    "\n",
    "    # Using f, TAR, and c that you just calculated, update total_f, total_tar, and total_c (15 points; 5 points each)\n",
    "    # (~ 3 lines)\n",
    "\n",
    "\n",
    "\n",
    "    # Incorporate the input to the format function below. Note that this is printing the information for a single contract.\n",
    "    # Hint: There are 7 inputs\n",
    "    # (10 points)\n",
    "    \n",
    "    print(\"\\n\\n\\nGiven b = ${0:.2f}, s = ${1:.2f} for {2}.\\nYour monthly management fee will be ${3:.2f}.\\\n",
    "    \\nThe total revenue from this sale will be ${4:.2f} and the commission earned by {5} will be ${6:.2f}.\\n\".format())\n",
    "    \n",
    "    print(question) # No need to change anything here\n",
    "    a = input() # No need to change anything here\n",
    "\n",
    "# Complete the following format function, such that the following prints the totals.\n",
    "# Hint: There are three inputs\n",
    "# (5 points)\n",
    "\n",
    "print(\"\"\"The total monthly management fee is \\u03A3(f) = ${0:.2f}.  \n",
    "The total annual revenue for all the projects is \\u03A3(TAR) = ${1:.2f}. \n",
    "The total commission to all the sales associates is \\u03A3(c) = ${2:.2f}.\"\"\".format())"
   ]
  },
  {
   "cell_type": "markdown",
   "metadata": {},
   "source": [
    "#### Run the above cell. Assume that sales associate is Brian Griffin and he earned a contract for SOP from a business named Family Dog Training LLC. for b = 2300, s = 3450. The output is expected to print the following:\n",
    "\n",
    "Given b = $\\$2300.00$, s = $\\$3450.00$ for Family Dog Training LLC.\n",
    "\n",
    "Your monthly management fee will be \\$2845.00\n",
    "\n",
    "The toal revenue from this sale will be $\\$37590.00$ and the commission earned by Brian Griffin will be \\$1879.50.\n",
    "\n",
    "#### Later the question will again ask for the name of the sales associate or to enter q. Now assume that sales associate is Glenn Quagmire and she earned a contract for SOP from a business named Toys Are You for b = 3200, s = 6000. The output is expected to print the following:\n",
    "\n",
    "Given b = \\$3200.00, s = \\$6000.00 for Toys Are You\n",
    "\n",
    "Your monthly management fee will be \\$2980.00\n",
    "\n",
    "The toal revenue from this sale will be $\\$41760.00$ and the commission earned by Glenn Quagmire will be \\$2088.00.\n",
    "\n",
    "#### When the name of the sales associate is asked again, enter q. The output is expected to print the following:\n",
    "\n",
    "The total monthly management fee is $\\sum(f) = \\$5825.00$.\n",
    "\n",
    "The total annual revenue for all the projects is $\\sum(TAR) = \\$79350.00$.\n",
    "\n",
    "The total commission to all the sales associates is $\\sum(c) = \\$3967.50$\n",
    "\n",
    "### (25 Points).\r\n"
   ]
  },
  {
   "cell_type": "code",
   "execution_count": null,
   "metadata": {},
   "outputs": [],
   "source": []
  }
 ],
 "metadata": {
  "kernelspec": {
   "display_name": "Python 3 (ipykernel)",
   "language": "python",
   "name": "python3"
  },
  "language_info": {
   "codemirror_mode": {
    "name": "ipython",
    "version": 3
   },
   "file_extension": ".py",
   "mimetype": "text/x-python",
   "name": "python",
   "nbconvert_exporter": "python",
   "pygments_lexer": "ipython3",
   "version": "3.11.7"
  }
 },
 "nbformat": 4,
 "nbformat_minor": 4
}
